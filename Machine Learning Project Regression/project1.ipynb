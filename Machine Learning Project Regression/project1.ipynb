{
  "cells": [
    {
      "cell_type": "markdown",
      "metadata": {
        "id": "ix5E9O5-UiNm"
      },
      "source": [
        "# load package and data"
      ]
    },
    {
      "cell_type": "code",
      "execution_count": null,
      "metadata": {
        "id": "N4DE4jSpUgBR"
      },
      "outputs": [],
      "source": [
        "import pandas as pd\n",
        "import numpy as py\n",
        "import seaborn as sns\n",
        "import matplotlib.pyplot as plt\n",
        "from sklearn.linear_model import Lasso, LassoCV, LassoLars, ElasticNet, ElasticNetCV\n",
        "from sklearn.preprocessing import StandardScaler, PolynomialFeatures\n",
        "from sklearn.metrics import mean_squared_error\n",
        "from sklearn.model_selection import GridSearchCV, RepeatedKFold, train_test_split\n",
        "from sklearn.feature_selection import RFECV\n",
        "from sklearn import metrics\n",
        "\n",
        "# put your input for data\n",
        "x_train = pd.read_csv('/content/drive/MyDrive/ds310 /project 1/x_train.csv')\n",
        "y_train = pd.read_csv('/content/drive/MyDrive/ds310 /project 1/y_train.csv')\n",
        "x_test = pd.read_csv('/content/drive/MyDrive/ds310 /project 1/x_test.csv')\n",
        "y_test = pd.read_csv('/content/drive/MyDrive/ds310 /project 1/sampleSubmission.csv')"
      ]
    },
    {
      "cell_type": "markdown",
      "metadata": {
        "id": "ot2gAj4QVam6"
      },
      "source": [
        "# EDA"
      ]
    },
    {
      "cell_type": "markdown",
      "metadata": {
        "id": "awPQ2IDkVgT8"
      },
      "source": [
        "## summary stat"
      ]
    },
    {
      "cell_type": "code",
      "execution_count": null,
      "metadata": {
        "colab": {
          "base_uri": "https://localhost:8080/",
          "height": 349
        },
        "id": "cLUZUjiSVfgD",
        "outputId": "633b68f5-7970-46b2-e5bb-f2630376d862"
      },
      "outputs": [
        {
          "data": {
            "application/vnd.google.colaboratory.intrinsic+json": {
              "type": "dataframe"
            },
            "text/html": [
              "\n",
              "  <div id=\"df-0537657a-60eb-4e3b-b7d2-bd2f159498b1\" class=\"colab-df-container\">\n",
              "    <div>\n",
              "<style scoped>\n",
              "    .dataframe tbody tr th:only-of-type {\n",
              "        vertical-align: middle;\n",
              "    }\n",
              "\n",
              "    .dataframe tbody tr th {\n",
              "        vertical-align: top;\n",
              "    }\n",
              "\n",
              "    .dataframe thead th {\n",
              "        text-align: right;\n",
              "    }\n",
              "</style>\n",
              "<table border=\"1\" class=\"dataframe\">\n",
              "  <thead>\n",
              "    <tr style=\"text-align: right;\">\n",
              "      <th></th>\n",
              "      <th>Col 1</th>\n",
              "      <th>Col 2</th>\n",
              "      <th>Col 3</th>\n",
              "      <th>Col 4</th>\n",
              "      <th>Col 5</th>\n",
              "      <th>Col 6</th>\n",
              "      <th>Col 7</th>\n",
              "      <th>Col 8</th>\n",
              "      <th>Col 9</th>\n",
              "      <th>Col 10</th>\n",
              "      <th>...</th>\n",
              "      <th>Col 55</th>\n",
              "      <th>Col 56</th>\n",
              "      <th>Col 57</th>\n",
              "      <th>Col 58</th>\n",
              "      <th>Col 59</th>\n",
              "      <th>Col 60</th>\n",
              "      <th>Col 61</th>\n",
              "      <th>Col 62</th>\n",
              "      <th>Col 63</th>\n",
              "      <th>Col 64</th>\n",
              "    </tr>\n",
              "  </thead>\n",
              "  <tbody>\n",
              "    <tr>\n",
              "      <th>count</th>\n",
              "      <td>242.000000</td>\n",
              "      <td>242.000000</td>\n",
              "      <td>242.000000</td>\n",
              "      <td>242.000000</td>\n",
              "      <td>242.000000</td>\n",
              "      <td>242.000000</td>\n",
              "      <td>242.000000</td>\n",
              "      <td>242.000000</td>\n",
              "      <td>242.000000</td>\n",
              "      <td>242.000000</td>\n",
              "      <td>...</td>\n",
              "      <td>242.000000</td>\n",
              "      <td>242.000000</td>\n",
              "      <td>242.000000</td>\n",
              "      <td>242.000000</td>\n",
              "      <td>242.000000</td>\n",
              "      <td>242.000000</td>\n",
              "      <td>242.000000</td>\n",
              "      <td>242.000000</td>\n",
              "      <td>242.000000</td>\n",
              "      <td>242.000000</td>\n",
              "    </tr>\n",
              "    <tr>\n",
              "      <th>mean</th>\n",
              "      <td>-0.003323</td>\n",
              "      <td>-0.001314</td>\n",
              "      <td>-0.002398</td>\n",
              "      <td>-0.001630</td>\n",
              "      <td>-0.003224</td>\n",
              "      <td>-0.002212</td>\n",
              "      <td>0.000840</td>\n",
              "      <td>-0.003140</td>\n",
              "      <td>-0.002849</td>\n",
              "      <td>-0.001591</td>\n",
              "      <td>...</td>\n",
              "      <td>0.000990</td>\n",
              "      <td>-0.000489</td>\n",
              "      <td>-0.002741</td>\n",
              "      <td>0.001206</td>\n",
              "      <td>0.000505</td>\n",
              "      <td>0.001395</td>\n",
              "      <td>-0.001923</td>\n",
              "      <td>-0.003529</td>\n",
              "      <td>0.001857</td>\n",
              "      <td>-0.000221</td>\n",
              "    </tr>\n",
              "    <tr>\n",
              "      <th>std</th>\n",
              "      <td>0.048495</td>\n",
              "      <td>0.047562</td>\n",
              "      <td>0.044823</td>\n",
              "      <td>0.046265</td>\n",
              "      <td>0.045687</td>\n",
              "      <td>0.046473</td>\n",
              "      <td>0.047075</td>\n",
              "      <td>0.047097</td>\n",
              "      <td>0.044921</td>\n",
              "      <td>0.048524</td>\n",
              "      <td>...</td>\n",
              "      <td>0.046503</td>\n",
              "      <td>0.052138</td>\n",
              "      <td>0.045878</td>\n",
              "      <td>0.051811</td>\n",
              "      <td>0.044714</td>\n",
              "      <td>0.043615</td>\n",
              "      <td>0.051494</td>\n",
              "      <td>0.040118</td>\n",
              "      <td>0.052074</td>\n",
              "      <td>0.047651</td>\n",
              "    </tr>\n",
              "    <tr>\n",
              "      <th>min</th>\n",
              "      <td>-0.107226</td>\n",
              "      <td>-0.044642</td>\n",
              "      <td>-0.083808</td>\n",
              "      <td>-0.112400</td>\n",
              "      <td>-0.126781</td>\n",
              "      <td>-0.106845</td>\n",
              "      <td>-0.102307</td>\n",
              "      <td>-0.076395</td>\n",
              "      <td>-0.126097</td>\n",
              "      <td>-0.129483</td>\n",
              "      <td>...</td>\n",
              "      <td>-0.256471</td>\n",
              "      <td>-0.076433</td>\n",
              "      <td>-0.155145</td>\n",
              "      <td>-0.151734</td>\n",
              "      <td>-0.228580</td>\n",
              "      <td>-0.143972</td>\n",
              "      <td>-0.223255</td>\n",
              "      <td>-0.160745</td>\n",
              "      <td>-0.128919</td>\n",
              "      <td>-0.092165</td>\n",
              "    </tr>\n",
              "    <tr>\n",
              "      <th>25%</th>\n",
              "      <td>-0.041840</td>\n",
              "      <td>-0.044642</td>\n",
              "      <td>-0.036385</td>\n",
              "      <td>-0.033214</td>\n",
              "      <td>-0.035624</td>\n",
              "      <td>-0.033177</td>\n",
              "      <td>-0.036038</td>\n",
              "      <td>-0.039493</td>\n",
              "      <td>-0.032934</td>\n",
              "      <td>-0.034215</td>\n",
              "      <td>...</td>\n",
              "      <td>-0.013098</td>\n",
              "      <td>-0.023737</td>\n",
              "      <td>-0.021494</td>\n",
              "      <td>-0.020256</td>\n",
              "      <td>-0.018353</td>\n",
              "      <td>-0.017702</td>\n",
              "      <td>-0.016053</td>\n",
              "      <td>-0.027055</td>\n",
              "      <td>-0.021352</td>\n",
              "      <td>-0.023189</td>\n",
              "    </tr>\n",
              "    <tr>\n",
              "      <th>50%</th>\n",
              "      <td>0.001751</td>\n",
              "      <td>-0.044642</td>\n",
              "      <td>-0.007284</td>\n",
              "      <td>-0.008540</td>\n",
              "      <td>-0.004321</td>\n",
              "      <td>-0.006168</td>\n",
              "      <td>-0.002903</td>\n",
              "      <td>-0.002592</td>\n",
              "      <td>-0.005145</td>\n",
              "      <td>-0.001078</td>\n",
              "      <td>...</td>\n",
              "      <td>0.007864</td>\n",
              "      <td>-0.015062</td>\n",
              "      <td>-0.010942</td>\n",
              "      <td>-0.010163</td>\n",
              "      <td>0.014418</td>\n",
              "      <td>0.009642</td>\n",
              "      <td>0.009135</td>\n",
              "      <td>-0.014333</td>\n",
              "      <td>-0.015864</td>\n",
              "      <td>-0.014415</td>\n",
              "    </tr>\n",
              "    <tr>\n",
              "      <th>75%</th>\n",
              "      <td>0.037168</td>\n",
              "      <td>0.050680</td>\n",
              "      <td>0.028284</td>\n",
              "      <td>0.031914</td>\n",
              "      <td>0.023198</td>\n",
              "      <td>0.025695</td>\n",
              "      <td>0.033914</td>\n",
              "      <td>0.034309</td>\n",
              "      <td>0.027204</td>\n",
              "      <td>0.023775</td>\n",
              "      <td>...</td>\n",
              "      <td>0.022502</td>\n",
              "      <td>0.004805</td>\n",
              "      <td>0.013687</td>\n",
              "      <td>0.012113</td>\n",
              "      <td>0.031298</td>\n",
              "      <td>0.021598</td>\n",
              "      <td>0.022525</td>\n",
              "      <td>0.013462</td>\n",
              "      <td>0.017656</td>\n",
              "      <td>0.012268</td>\n",
              "    </tr>\n",
              "    <tr>\n",
              "      <th>max</th>\n",
              "      <td>0.110727</td>\n",
              "      <td>0.050680</td>\n",
              "      <td>0.128521</td>\n",
              "      <td>0.125158</td>\n",
              "      <td>0.153914</td>\n",
              "      <td>0.198788</td>\n",
              "      <td>0.181179</td>\n",
              "      <td>0.185234</td>\n",
              "      <td>0.133599</td>\n",
              "      <td>0.135612</td>\n",
              "      <td>...</td>\n",
              "      <td>0.135610</td>\n",
              "      <td>0.555129</td>\n",
              "      <td>0.203381</td>\n",
              "      <td>0.299032</td>\n",
              "      <td>0.080445</td>\n",
              "      <td>0.163067</td>\n",
              "      <td>0.209905</td>\n",
              "      <td>0.157844</td>\n",
              "      <td>0.318104</td>\n",
              "      <td>0.338184</td>\n",
              "    </tr>\n",
              "  </tbody>\n",
              "</table>\n",
              "<p>8 rows × 64 columns</p>\n",
              "</div>\n",
              "    <div class=\"colab-df-buttons\">\n",
              "\n",
              "  <div class=\"colab-df-container\">\n",
              "    <button class=\"colab-df-convert\" onclick=\"convertToInteractive('df-0537657a-60eb-4e3b-b7d2-bd2f159498b1')\"\n",
              "            title=\"Convert this dataframe to an interactive table.\"\n",
              "            style=\"display:none;\">\n",
              "\n",
              "  <svg xmlns=\"http://www.w3.org/2000/svg\" height=\"24px\" viewBox=\"0 -960 960 960\">\n",
              "    <path d=\"M120-120v-720h720v720H120Zm60-500h600v-160H180v160Zm220 220h160v-160H400v160Zm0 220h160v-160H400v160ZM180-400h160v-160H180v160Zm440 0h160v-160H620v160ZM180-180h160v-160H180v160Zm440 0h160v-160H620v160Z\"/>\n",
              "  </svg>\n",
              "    </button>\n",
              "\n",
              "  <style>\n",
              "    .colab-df-container {\n",
              "      display:flex;\n",
              "      gap: 12px;\n",
              "    }\n",
              "\n",
              "    .colab-df-convert {\n",
              "      background-color: #E8F0FE;\n",
              "      border: none;\n",
              "      border-radius: 50%;\n",
              "      cursor: pointer;\n",
              "      display: none;\n",
              "      fill: #1967D2;\n",
              "      height: 32px;\n",
              "      padding: 0 0 0 0;\n",
              "      width: 32px;\n",
              "    }\n",
              "\n",
              "    .colab-df-convert:hover {\n",
              "      background-color: #E2EBFA;\n",
              "      box-shadow: 0px 1px 2px rgba(60, 64, 67, 0.3), 0px 1px 3px 1px rgba(60, 64, 67, 0.15);\n",
              "      fill: #174EA6;\n",
              "    }\n",
              "\n",
              "    .colab-df-buttons div {\n",
              "      margin-bottom: 4px;\n",
              "    }\n",
              "\n",
              "    [theme=dark] .colab-df-convert {\n",
              "      background-color: #3B4455;\n",
              "      fill: #D2E3FC;\n",
              "    }\n",
              "\n",
              "    [theme=dark] .colab-df-convert:hover {\n",
              "      background-color: #434B5C;\n",
              "      box-shadow: 0px 1px 3px 1px rgba(0, 0, 0, 0.15);\n",
              "      filter: drop-shadow(0px 1px 2px rgba(0, 0, 0, 0.3));\n",
              "      fill: #FFFFFF;\n",
              "    }\n",
              "  </style>\n",
              "\n",
              "    <script>\n",
              "      const buttonEl =\n",
              "        document.querySelector('#df-0537657a-60eb-4e3b-b7d2-bd2f159498b1 button.colab-df-convert');\n",
              "      buttonEl.style.display =\n",
              "        google.colab.kernel.accessAllowed ? 'block' : 'none';\n",
              "\n",
              "      async function convertToInteractive(key) {\n",
              "        const element = document.querySelector('#df-0537657a-60eb-4e3b-b7d2-bd2f159498b1');\n",
              "        const dataTable =\n",
              "          await google.colab.kernel.invokeFunction('convertToInteractive',\n",
              "                                                    [key], {});\n",
              "        if (!dataTable) return;\n",
              "\n",
              "        const docLinkHtml = 'Like what you see? Visit the ' +\n",
              "          '<a target=\"_blank\" href=https://colab.research.google.com/notebooks/data_table.ipynb>data table notebook</a>'\n",
              "          + ' to learn more about interactive tables.';\n",
              "        element.innerHTML = '';\n",
              "        dataTable['output_type'] = 'display_data';\n",
              "        await google.colab.output.renderOutput(dataTable, element);\n",
              "        const docLink = document.createElement('div');\n",
              "        docLink.innerHTML = docLinkHtml;\n",
              "        element.appendChild(docLink);\n",
              "      }\n",
              "    </script>\n",
              "  </div>\n",
              "\n",
              "\n",
              "<div id=\"df-51d50a2b-3be0-4936-b8ef-418c682b3da6\">\n",
              "  <button class=\"colab-df-quickchart\" onclick=\"quickchart('df-51d50a2b-3be0-4936-b8ef-418c682b3da6')\"\n",
              "            title=\"Suggest charts\"\n",
              "            style=\"display:none;\">\n",
              "\n",
              "<svg xmlns=\"http://www.w3.org/2000/svg\" height=\"24px\"viewBox=\"0 0 24 24\"\n",
              "     width=\"24px\">\n",
              "    <g>\n",
              "        <path d=\"M19 3H5c-1.1 0-2 .9-2 2v14c0 1.1.9 2 2 2h14c1.1 0 2-.9 2-2V5c0-1.1-.9-2-2-2zM9 17H7v-7h2v7zm4 0h-2V7h2v10zm4 0h-2v-4h2v4z\"/>\n",
              "    </g>\n",
              "</svg>\n",
              "  </button>\n",
              "\n",
              "<style>\n",
              "  .colab-df-quickchart {\n",
              "      --bg-color: #E8F0FE;\n",
              "      --fill-color: #1967D2;\n",
              "      --hover-bg-color: #E2EBFA;\n",
              "      --hover-fill-color: #174EA6;\n",
              "      --disabled-fill-color: #AAA;\n",
              "      --disabled-bg-color: #DDD;\n",
              "  }\n",
              "\n",
              "  [theme=dark] .colab-df-quickchart {\n",
              "      --bg-color: #3B4455;\n",
              "      --fill-color: #D2E3FC;\n",
              "      --hover-bg-color: #434B5C;\n",
              "      --hover-fill-color: #FFFFFF;\n",
              "      --disabled-bg-color: #3B4455;\n",
              "      --disabled-fill-color: #666;\n",
              "  }\n",
              "\n",
              "  .colab-df-quickchart {\n",
              "    background-color: var(--bg-color);\n",
              "    border: none;\n",
              "    border-radius: 50%;\n",
              "    cursor: pointer;\n",
              "    display: none;\n",
              "    fill: var(--fill-color);\n",
              "    height: 32px;\n",
              "    padding: 0;\n",
              "    width: 32px;\n",
              "  }\n",
              "\n",
              "  .colab-df-quickchart:hover {\n",
              "    background-color: var(--hover-bg-color);\n",
              "    box-shadow: 0 1px 2px rgba(60, 64, 67, 0.3), 0 1px 3px 1px rgba(60, 64, 67, 0.15);\n",
              "    fill: var(--button-hover-fill-color);\n",
              "  }\n",
              "\n",
              "  .colab-df-quickchart-complete:disabled,\n",
              "  .colab-df-quickchart-complete:disabled:hover {\n",
              "    background-color: var(--disabled-bg-color);\n",
              "    fill: var(--disabled-fill-color);\n",
              "    box-shadow: none;\n",
              "  }\n",
              "\n",
              "  .colab-df-spinner {\n",
              "    border: 2px solid var(--fill-color);\n",
              "    border-color: transparent;\n",
              "    border-bottom-color: var(--fill-color);\n",
              "    animation:\n",
              "      spin 1s steps(1) infinite;\n",
              "  }\n",
              "\n",
              "  @keyframes spin {\n",
              "    0% {\n",
              "      border-color: transparent;\n",
              "      border-bottom-color: var(--fill-color);\n",
              "      border-left-color: var(--fill-color);\n",
              "    }\n",
              "    20% {\n",
              "      border-color: transparent;\n",
              "      border-left-color: var(--fill-color);\n",
              "      border-top-color: var(--fill-color);\n",
              "    }\n",
              "    30% {\n",
              "      border-color: transparent;\n",
              "      border-left-color: var(--fill-color);\n",
              "      border-top-color: var(--fill-color);\n",
              "      border-right-color: var(--fill-color);\n",
              "    }\n",
              "    40% {\n",
              "      border-color: transparent;\n",
              "      border-right-color: var(--fill-color);\n",
              "      border-top-color: var(--fill-color);\n",
              "    }\n",
              "    60% {\n",
              "      border-color: transparent;\n",
              "      border-right-color: var(--fill-color);\n",
              "    }\n",
              "    80% {\n",
              "      border-color: transparent;\n",
              "      border-right-color: var(--fill-color);\n",
              "      border-bottom-color: var(--fill-color);\n",
              "    }\n",
              "    90% {\n",
              "      border-color: transparent;\n",
              "      border-bottom-color: var(--fill-color);\n",
              "    }\n",
              "  }\n",
              "</style>\n",
              "\n",
              "  <script>\n",
              "    async function quickchart(key) {\n",
              "      const quickchartButtonEl =\n",
              "        document.querySelector('#' + key + ' button');\n",
              "      quickchartButtonEl.disabled = true;  // To prevent multiple clicks.\n",
              "      quickchartButtonEl.classList.add('colab-df-spinner');\n",
              "      try {\n",
              "        const charts = await google.colab.kernel.invokeFunction(\n",
              "            'suggestCharts', [key], {});\n",
              "      } catch (error) {\n",
              "        console.error('Error during call to suggestCharts:', error);\n",
              "      }\n",
              "      quickchartButtonEl.classList.remove('colab-df-spinner');\n",
              "      quickchartButtonEl.classList.add('colab-df-quickchart-complete');\n",
              "    }\n",
              "    (() => {\n",
              "      let quickchartButtonEl =\n",
              "        document.querySelector('#df-51d50a2b-3be0-4936-b8ef-418c682b3da6 button');\n",
              "      quickchartButtonEl.style.display =\n",
              "        google.colab.kernel.accessAllowed ? 'block' : 'none';\n",
              "    })();\n",
              "  </script>\n",
              "</div>\n",
              "\n",
              "    </div>\n",
              "  </div>\n"
            ],
            "text/plain": [
              "            Col 1       Col 2       Col 3       Col 4       Col 5       Col 6  \\\n",
              "count  242.000000  242.000000  242.000000  242.000000  242.000000  242.000000   \n",
              "mean    -0.003323   -0.001314   -0.002398   -0.001630   -0.003224   -0.002212   \n",
              "std      0.048495    0.047562    0.044823    0.046265    0.045687    0.046473   \n",
              "min     -0.107226   -0.044642   -0.083808   -0.112400   -0.126781   -0.106845   \n",
              "25%     -0.041840   -0.044642   -0.036385   -0.033214   -0.035624   -0.033177   \n",
              "50%      0.001751   -0.044642   -0.007284   -0.008540   -0.004321   -0.006168   \n",
              "75%      0.037168    0.050680    0.028284    0.031914    0.023198    0.025695   \n",
              "max      0.110727    0.050680    0.128521    0.125158    0.153914    0.198788   \n",
              "\n",
              "            Col 7       Col 8       Col 9      Col 10  ...      Col 55  \\\n",
              "count  242.000000  242.000000  242.000000  242.000000  ...  242.000000   \n",
              "mean     0.000840   -0.003140   -0.002849   -0.001591  ...    0.000990   \n",
              "std      0.047075    0.047097    0.044921    0.048524  ...    0.046503   \n",
              "min     -0.102307   -0.076395   -0.126097   -0.129483  ...   -0.256471   \n",
              "25%     -0.036038   -0.039493   -0.032934   -0.034215  ...   -0.013098   \n",
              "50%     -0.002903   -0.002592   -0.005145   -0.001078  ...    0.007864   \n",
              "75%      0.033914    0.034309    0.027204    0.023775  ...    0.022502   \n",
              "max      0.181179    0.185234    0.133599    0.135612  ...    0.135610   \n",
              "\n",
              "           Col 56      Col 57      Col 58      Col 59      Col 60      Col 61  \\\n",
              "count  242.000000  242.000000  242.000000  242.000000  242.000000  242.000000   \n",
              "mean    -0.000489   -0.002741    0.001206    0.000505    0.001395   -0.001923   \n",
              "std      0.052138    0.045878    0.051811    0.044714    0.043615    0.051494   \n",
              "min     -0.076433   -0.155145   -0.151734   -0.228580   -0.143972   -0.223255   \n",
              "25%     -0.023737   -0.021494   -0.020256   -0.018353   -0.017702   -0.016053   \n",
              "50%     -0.015062   -0.010942   -0.010163    0.014418    0.009642    0.009135   \n",
              "75%      0.004805    0.013687    0.012113    0.031298    0.021598    0.022525   \n",
              "max      0.555129    0.203381    0.299032    0.080445    0.163067    0.209905   \n",
              "\n",
              "           Col 62      Col 63      Col 64  \n",
              "count  242.000000  242.000000  242.000000  \n",
              "mean    -0.003529    0.001857   -0.000221  \n",
              "std      0.040118    0.052074    0.047651  \n",
              "min     -0.160745   -0.128919   -0.092165  \n",
              "25%     -0.027055   -0.021352   -0.023189  \n",
              "50%     -0.014333   -0.015864   -0.014415  \n",
              "75%      0.013462    0.017656    0.012268  \n",
              "max      0.157844    0.318104    0.338184  \n",
              "\n",
              "[8 rows x 64 columns]"
            ]
          },
          "execution_count": 143,
          "metadata": {},
          "output_type": "execute_result"
        }
      ],
      "source": [
        "# stat. summary of x_train\n",
        "x_train.describe()"
      ]
    },
    {
      "cell_type": "markdown",
      "metadata": {
        "id": "_jaXrc8vVj9S"
      },
      "source": [
        "Since features of the data are already engineered, I do not need to perform feature engineering."
      ]
    },
    {
      "cell_type": "markdown",
      "metadata": {
        "id": "vE8Gcm6nI3Kd"
      },
      "source": [
        "# Data pre-processing"
      ]
    },
    {
      "cell_type": "code",
      "execution_count": null,
      "metadata": {
        "id": "yIKqJj1FI1cF"
      },
      "outputs": [],
      "source": [
        "# split x_train and y_train into training set and validation set\n",
        "X_train, X_val, Y_train, Y_val = train_test_split(x_train, y_train, test_size = 0.2)"
      ]
    },
    {
      "cell_type": "markdown",
      "metadata": {
        "id": "AklXbhXyWdl_"
      },
      "source": [
        "# model building"
      ]
    },
    {
      "cell_type": "code",
      "execution_count": null,
      "metadata": {
        "id": "eti2I-RhXYXC"
      },
      "outputs": [],
      "source": [
        "# create lassolars model\n",
        "model_lasso = LassoLars(max_iter = 10000)\n",
        "\n",
        "# fit the model\n",
        "model_lasso.fit(x_train, y_train['Output'])\n",
        "\n",
        "# predict the y_train\n",
        "y_pred_lasso_wo_cv = model_lasso.predict(X_val)"
      ]
    },
    {
      "cell_type": "markdown",
      "metadata": {
        "id": "luFJgPISX93W"
      },
      "source": [
        "## model evalutaion"
      ]
    },
    {
      "cell_type": "code",
      "execution_count": null,
      "metadata": {
        "colab": {
          "base_uri": "https://localhost:8080/"
        },
        "id": "fttauwPSX_9E",
        "outputId": "ecfde783-77f8-4b0b-84bb-18edc106792a"
      },
      "outputs": [
        {
          "name": "stdout",
          "output_type": "stream",
          "text": [
            "MSE: 3607.807362681958\n"
          ]
        }
      ],
      "source": [
        "print('MSE:', mean_squared_error(Y_val['Output'], y_pred_lasso_wo_cv))"
      ]
    },
    {
      "cell_type": "markdown",
      "metadata": {
        "id": "iji1dmrvZDkk"
      },
      "source": [
        "The MSE of lasso model seems to be high. So, I will proceed with hyperparameter tunning."
      ]
    },
    {
      "cell_type": "markdown",
      "metadata": {
        "id": "P3JeI3HJZRyK"
      },
      "source": [
        "# hyperparameter setting and tunning"
      ]
    },
    {
      "cell_type": "code",
      "execution_count": null,
      "metadata": {
        "colab": {
          "base_uri": "https://localhost:8080/"
        },
        "id": "eWEzWdx_ZW2b",
        "outputId": "69fea5ab-0802-457e-9c1e-b66fec249bfb"
      },
      "outputs": [
        {
          "name": "stdout",
          "output_type": "stream",
          "text": [
            "Fitting 15 folds for each of 10 candidates, totalling 150 fits\n"
          ]
        }
      ],
      "source": [
        "# cross validation\n",
        "cv = RepeatedKFold(n_splits = 5, n_repeats= 3)\n",
        "\n",
        "# try different values of alpha and choose the best one\n",
        "param_grid = {\n",
        "    'alpha': [0.001, 0.01, 0.05, 0.1, 0.15, 1.16, 0.17, 0.18, 0.19, 1]\n",
        "}\n",
        "\n",
        "# create the model\n",
        "model_lasso_hyp = GridSearchCV(estimator = model_lasso, param_grid = param_grid,\n",
        "                           n_jobs = 1, cv = cv, scoring = 'neg_mean_squared_error',\n",
        "                           verbose = 1)\n",
        "\n",
        "# fit the model with data\n",
        "model_lasso_hyp.fit(x_train, y_train['Output'])\n",
        "\n",
        "# predict the Y_val\n",
        "y_pred_lasso_cv_train = model_lasso_hyp.best_estimator_.predict(X_val)"
      ]
    },
    {
      "cell_type": "markdown",
      "metadata": {
        "id": "i6uc3ZZ6NEJG"
      },
      "source": [
        "## model evaluation after cross-validation"
      ]
    },
    {
      "cell_type": "code",
      "execution_count": null,
      "metadata": {
        "colab": {
          "base_uri": "https://localhost:8080/"
        },
        "id": "dgeRku4INHFK",
        "outputId": "54fc0d37-0342-444d-d166-39cea33514a2"
      },
      "outputs": [
        {
          "name": "stdout",
          "output_type": "stream",
          "text": [
            "Best Alpha: 0.15\n",
            "MSE: 2559.8744305112336\n"
          ]
        }
      ],
      "source": [
        "# best alpha value\n",
        "print('Best Alpha:', model_lasso_hyp.best_params_['alpha'])\n",
        "\n",
        "# evaluate the model\n",
        "print('MSE:', mean_squared_error(Y_val['Output'], y_pred_lasso_cv_train))"
      ]
    },
    {
      "cell_type": "markdown",
      "metadata": {
        "id": "2S8Qz2CPdTnD"
      },
      "source": [
        "I can observe that cross validated model performs better than the model without cross validation."
      ]
    },
    {
      "cell_type": "markdown",
      "metadata": {
        "id": "M8sxTEp1dtBi"
      },
      "source": [
        "# predict y_test"
      ]
    },
    {
      "cell_type": "code",
      "execution_count": null,
      "metadata": {
        "id": "ctxFGwR3d0UM"
      },
      "outputs": [],
      "source": [
        "y_pred_lasso_cv = model_lasso_hyp.best_estimator_.predict(x_test)"
      ]
    },
    {
      "cell_type": "markdown",
      "metadata": {
        "id": "mByatdpCeBAr"
      },
      "source": [
        "# export y_test"
      ]
    },
    {
      "cell_type": "code",
      "execution_count": null,
      "metadata": {
        "id": "dpyypmumeFp3"
      },
      "outputs": [],
      "source": [
        "# put y_pred values into y_test\n",
        "y_test['Output'] = y_pred_lasso_cv\n",
        "\n",
        "# export\n",
        "y_test.to_csv('/content/drive/MyDrive/ds310 /project 1/y_test.csv')"
      ]
    }
  ],
  "metadata": {
    "colab": {
      "provenance": []
    },
    "kernelspec": {
      "display_name": "Python 3",
      "name": "python3"
    },
    "language_info": {
      "name": "python"
    }
  },
  "nbformat": 4,
  "nbformat_minor": 0
}
